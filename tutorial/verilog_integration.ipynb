{
 "cells": [
  {
   "cell_type": "markdown",
   "metadata": {
    "lines_to_next_cell": 0
   },
   "source": [
    "# Integration with External Verilog\n",
    "This guide is targeted towards users working with existing Verilog designs (as\n",
    "opposed to Python/Magma circuits).\n",
    "\n",
    "The approach relies on Magma's external Verilog integration features to\n",
    "construct a Magma circuit representation that can then be used with a\n",
    "`fault.Tester` object. This approach enables the use of most of fault's\n",
    "features, except for logic that relies on descending into a design hierarchy\n",
    "(e.g. peeking and poking sub-instance ports).\n",
    "\n",
    "The first, simplest approach is to use `m.DefineFromVerilog` or\n",
    "`m.DefineFromVerilogFile` to import a verilog desing into Magma.  \n",
    "\n",
    "Here's an example using `m.DefineFromVerilog`"
   ]
  },
  {
   "cell_type": "code",
   "execution_count": 1,
   "metadata": {},
   "outputs": [
    {
     "name": "stderr",
     "output_type": "stream",
     "text": [
      "INFO:root:Running tester...\n"
     ]
    },
    {
     "name": "stdout",
     "output_type": "stream",
     "text": [
      "foo(I: In(Bit), O: Out(Bit))\n"
     ]
    },
    {
     "name": "stderr",
     "output_type": "stream",
     "text": [
      "INFO:root:Success!\n"
     ]
    }
   ],
   "source": [
    "import magma as m\n",
    "import logging\n",
    "logging.basicConfig(level=logging.INFO)\n",
    "import fault\n",
    "\n",
    "foo = m.DefineFromVerilog(\"\"\"\\\n",
    "module foo(input I, output O);\n",
    "assign O = I;\n",
    "endmodule\n",
    "\"\"\", target_modules=[\"foo\"])[0]\n",
    "print(foo)\n",
    "\n",
    "tester = fault.Tester(foo)\n",
    "tester.circuit.I = 1\n",
    "tester.eval()\n",
    "tester.circuit.O.expect(1)\n",
    "# Note we currently have to tell magma to use the \"verilog\" \n",
    "# backend when working with a top-level verilog file\n",
    "tester.compile_and_run(\"verilator\", magma_output=\"verilog\")"
   ]
  },
  {
   "cell_type": "markdown",
   "metadata": {},
   "source": [
    "Here's an example using `m.DefineFromVerilogFile`"
   ]
  },
  {
   "cell_type": "code",
   "execution_count": 2,
   "metadata": {},
   "outputs": [
    {
     "name": "stderr",
     "output_type": "stream",
     "text": [
      "INFO:root:Running tester...\n"
     ]
    },
    {
     "name": "stdout",
     "output_type": "stream",
     "text": [
      "foo(I: In(Bit), O: Out(Bit))\n"
     ]
    },
    {
     "name": "stderr",
     "output_type": "stream",
     "text": [
      "INFO:root:Success!\n"
     ]
    }
   ],
   "source": [
    "with open(\"foo.v\", \"w\") as f:\n",
    "    f.write(\"\"\"\\\n",
    "module foo(input I, output O);\n",
    "assign O = I;\n",
    "endmodule\n",
    "\"\"\")\n",
    "    \n",
    "foo = m.DefineFromVerilogFile(\"foo.v\", target_modules=[\"foo\"])[0]\n",
    "print(foo)\n",
    "\n",
    "tester = fault.Tester(foo)\n",
    "tester.circuit.I = 1\n",
    "tester.eval()\n",
    "tester.circuit.O.expect(1)\n",
    "tester.compile_and_run(\"verilator\", magma_output=\"verilog\")"
   ]
  },
  {
   "cell_type": "markdown",
   "metadata": {},
   "source": [
    "An alternative to using `DefineFromVerilog` is to use `DeclareFromVerilog` to import a module interface, and provide the implementation to the simulator by copying the source verilog file into the simulation directory.  This is useful when the source file contains code that is not supported by Magma's Verilog parser (e.g. advanced system verilog features), or when parsing takes a long time (e.g. a post-synthesis netlist file)."
   ]
  },
  {
   "cell_type": "code",
   "execution_count": 5,
   "metadata": {},
   "outputs": [
    {
     "name": "stderr",
     "output_type": "stream",
     "text": [
      "INFO:root:Running tester...\n"
     ]
    },
    {
     "name": "stdout",
     "output_type": "stream",
     "text": [
      "foo(I: In(Bit), O: Out(Bit))\n"
     ]
    },
    {
     "name": "stderr",
     "output_type": "stream",
     "text": [
      "INFO:root:Success!\n"
     ]
    }
   ],
   "source": [
    "with open(\"foo_stub.v\", \"w\") as f:\n",
    "    f.write(\"\"\"\\\n",
    "module foo(input I, output O);\n",
    "endmodule\n",
    "\"\"\")\n",
    "\n",
    "# You can similarly use DeclareFromVerilog with a Verilog string\n",
    "foo = m.DeclareFromVerilogFile(\"foo_stub.v\", target_modules=[\"foo\"])[0]\n",
    "print(foo)\n",
    "\n",
    "tester = fault.Tester(foo)\n",
    "tester.circuit.I = 1\n",
    "tester.eval()\n",
    "tester.circuit.O.expect(1)\n",
    "\n",
    "import tempfile\n",
    "import shutil\n",
    "\n",
    "with tempfile.TemporaryDirectory() as dir_:\n",
    "    # Copy actual implementation to test directory\n",
    "    shutil.copy(\"foo.v\", dir_)\n",
    "    # Set test directory with directory= kwarg\n",
    "    tester.compile_and_run(\"verilator\", directory=dir_, skip_compile=True)"
   ]
  },
  {
   "cell_type": "markdown",
   "metadata": {},
   "source": [
    "A similar approach is to declare the interface using magma. This has the advantage of providing the capability of writing a sophisticated interface generator for your external module (e.g. if you're integrating with an external generator framework)."
   ]
  },
  {
   "cell_type": "code",
   "execution_count": 7,
   "metadata": {},
   "outputs": [
    {
     "name": "stderr",
     "output_type": "stream",
     "text": [
      "INFO:root:Running tester...\n",
      "INFO:root:Success!\n"
     ]
    }
   ],
   "source": [
    "class foo(m.Circuit):\n",
    "    IO = [\"I\", m.In(m.Bit), \"O\", m.Out(m.Bit)]\n",
    "\n",
    "tester = fault.Tester(foo)\n",
    "tester.circuit.I = 1\n",
    "tester.eval()\n",
    "tester.circuit.O.expect(1)\n",
    "\n",
    "import tempfile\n",
    "import shutil\n",
    "\n",
    "with tempfile.TemporaryDirectory() as dir_:\n",
    "    # Copy actual implementation to test directory\n",
    "    shutil.copy(\"foo.v\", dir_)\n",
    "    # Set test directory with directory= kwarg\n",
    "    tester.compile_and_run(\"verilator\", directory=dir_, skip_compile=True)"
   ]
  }
 ],
 "metadata": {
  "jupytext": {
   "cell_metadata_filter": "-all",
   "main_language": "python",
   "notebook_metadata_filter": "-all"
  },
  "kernelspec": {
   "display_name": "Python 3",
   "language": "python",
   "name": "python3"
  },
  "language_info": {
   "codemirror_mode": {
    "name": "ipython",
    "version": 3
   },
   "file_extension": ".py",
   "mimetype": "text/x-python",
   "name": "python",
   "nbconvert_exporter": "python",
   "pygments_lexer": "ipython3",
   "version": "3.7.1"
  }
 },
 "nbformat": 4,
 "nbformat_minor": 2
}
